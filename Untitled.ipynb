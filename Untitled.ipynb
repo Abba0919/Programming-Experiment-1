{
 "cells": [
  {
   "cell_type": "markdown",
   "id": "56073338-4c7e-4139-8d45-71a0614b97cd",
   "metadata": {},
   "source": [
    "## Alphabet Soup Problem"
   ]
  },
  {
   "cell_type": "code",
   "execution_count": 7,
   "id": "e55b0343-958c-41df-9434-c0873e5843fe",
   "metadata": {},
   "outputs": [
    {
     "name": "stdout",
     "output_type": "stream",
     "text": [
      "ACEHKR\n"
     ]
    }
   ],
   "source": [
    "#sorting of strings alphabetically\n",
    "def string(str):\n",
    "    return ''.join(sorted(str))\n",
    "     \n",
    "#test the function\n",
    "str = 'HACKER'\n",
    "print(sortString(str))"
   ]
  },
  {
   "cell_type": "markdown",
   "id": "71b2400f-cf23-4dd2-a4b2-605d15c23a97",
   "metadata": {},
   "source": [
    "## Emoticon Problem"
   ]
  },
  {
   "cell_type": "code",
   "execution_count": 30,
   "id": "52aa926a-ebda-4288-a5dc-c1749e0c14ae",
   "metadata": {},
   "outputs": [
    {
     "name": "stdin",
     "output_type": "stream",
     "text": [
      "Input a Sentence:  I smile no sad just grin no mad\n"
     ]
    },
    {
     "name": "stdout",
     "output_type": "stream",
     "text": [
      "I :) no :( just :D no >:(\n"
     ]
    }
   ],
   "source": [
    "\n",
    "def replace(sentence):\n",
    "    emo = {'smile': ':)', 'grin': ':D', 'sad': ':(', 'mad': '>:('}\n",
    "    \n",
    "    #split sentence in words\n",
    "    words = sentence.split()\n",
    "    \n",
    "    #switch words with emoticons\n",
    "    replaced_words = [emo.get(word, word) for word in words]\n",
    "    \n",
    "    #combine the sentence with emoticons\n",
    "    new_sentence = ' '.join(replaced_words)\n",
    "    \n",
    "    return new_sentence\n",
    "\n",
    "def main():\n",
    "    sentence = input(\"Input a Sentence: \")\n",
    "    new_sentence = replace(sentence)\n",
    "    print(new_sentence)\n",
    "\n",
    "main()\n",
    "\n",
    "\n"
   ]
  },
  {
   "cell_type": "markdown",
   "id": "627a6b05-e645-4768-bb50-52cdd439f668",
   "metadata": {},
   "source": [
    "## Unpacking List Problem"
   ]
  },
  {
   "cell_type": "code",
   "execution_count": 10,
   "id": "804023bd-cc88-4cf7-9d08-d0b23124518b",
   "metadata": {},
   "outputs": [
    {
     "name": "stdout",
     "output_type": "stream",
     "text": [
      "First: 1\n",
      "Middle: [28, 5, 9, 19]\n",
      "Last: 4\n"
     ]
    }
   ],
   "source": [
    "##give an example of list of numbers\n",
    "writeyourcodehere = [1, 28, 5, 9, 19, 4]\n",
    "\n",
    "##split up the numbers from first, middle, last\n",
    "first, *middle, last = writeyourcodehere\n",
    "\n",
    "##Print the variables\n",
    "print(\"First:\", first)\n",
    "print(\"Middle:\", middle)\n",
    "print(\"Last:\", last)"
   ]
  },
  {
   "cell_type": "code",
   "execution_count": null,
   "id": "9a9bc22c-fa7f-4e27-b608-fbaf60a70d9b",
   "metadata": {},
   "outputs": [],
   "source": []
  }
 ],
 "metadata": {
  "kernelspec": {
   "display_name": "Python 3 (ipykernel)",
   "language": "python",
   "name": "python3"
  },
  "language_info": {
   "codemirror_mode": {
    "name": "ipython",
    "version": 3
   },
   "file_extension": ".py",
   "mimetype": "text/x-python",
   "name": "python",
   "nbconvert_exporter": "python",
   "pygments_lexer": "ipython3",
   "version": "3.12.4"
  }
 },
 "nbformat": 4,
 "nbformat_minor": 5
}
